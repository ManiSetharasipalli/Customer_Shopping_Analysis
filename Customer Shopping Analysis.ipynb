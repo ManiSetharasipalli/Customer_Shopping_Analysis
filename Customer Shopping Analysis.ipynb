{
 "cells": [
  {
   "cell_type": "markdown",
   "id": "cdadad1f-c0e4-4a24-9c1b-ecfc43ff260e",
   "metadata": {
    "tags": []
   },
   "source": [
    "# <b>Customer Shopping Analysis "
   ]
  },
  {
   "cell_type": "markdown",
   "id": "895b5e8f-d486-42ca-9f42-27e3d04f8ea0",
   "metadata": {
    "tags": []
   },
   "source": [
    "<h2> <b> Introduction </h2>\n",
    "\n",
    "\n",
    "\n",
    "<p> This project, \"Customer Shopping Analysis,\" leverages pandas for data processing and analysis, unveiling insights into customer preferences. Matplotlib is employed to craft compelling visuals, offering a clear representation of shopping patterns. The focus lies on age, gender, preferred payment methods, and shopping mall choices, providing valuable information for strategic decision-making in retail. Through this analysis, the project aims to optimize business strategies and enhance the overall shopping experience.<p>\n"
   ]
  },
  {
   "cell_type": "markdown",
   "id": "5d827582-2650-4dbb-b8c5-92c10cceaa0f",
   "metadata": {},
   "source": [
    "<h4><b>The following questions guided the analysis process for this project, involving visualization and seeking insights:</h4>\n",
    "\n",
    "<ol>\n",
    "    <li>Understanding How Gender Influences Shopping</li>  \n",
    "    <li>Analyzing Category Preferences Among Customers</li> \n",
    "    <li>Unpacking Payment Preferences of Customers</li>  \n",
    "    <li>Examining Shopping Preferences Across Different Malls</li> \n",
    "    <li>Tracking Yearly Sales Trends in Malls</li> \n",
    "    <li>Analyzing Monthly Shopping Patterns</li>\n",
    "</ol>"
   ]
  },
  {
   "cell_type": "markdown",
   "id": "f83fad01-dda4-4682-b1da-31e9b336cd8d",
   "metadata": {},
   "source": [
    "<h4><b>Data Collection</h4>\n",
    "    \n",
    "The dataset utilized in this project was sourced from Kaggle and is titled \"Customer Shopping Dataset - Retail Sales Data.\"\n",
    "\n",
    "<b> About Dataset\n",
    "<p>Welcome to the shopping world of Istanbul! Our dataset contains shopping information from 10 different shopping malls between 2021 and 2023. We have gathered data from various age groups and genders to provide a comprehensive view of shopping habits in Istanbul.Explore the dataset and discover the fascinating world of Istanbul shopping!<p>"
   ]
  },
  {
   "cell_type": "code",
   "execution_count": 69,
   "id": "d721eec0-cd57-4c49-a400-fd969d5e2c99",
   "metadata": {},
   "outputs": [],
   "source": [
    "import pandas as pd\n",
    "from matplotlib import pyplot as plt"
   ]
  },
  {
   "cell_type": "code",
   "execution_count": 70,
   "id": "0a67cd4a-9db6-4f45-a725-e9297c57d7f0",
   "metadata": {},
   "outputs": [],
   "source": [
    "customer_shopping=pd.read_csv(r\"C:\\Users\\manis\\Downloads\\customer_shopping_analysis.csv\")"
   ]
  },
  {
   "cell_type": "markdown",
   "id": "3d62536b-f0b9-4963-b6f8-fd45f40f6a4c",
   "metadata": {},
   "source": [
    "## Data Preprocessing\n",
    "<p>Data preprocessing is a crucial step in data analysis that involves cleaning and transforming raw data into a format suitable for analysis<p>"
   ]
  },
  {
   "cell_type": "markdown",
   "id": "f01066a3-c324-4e42-8f5b-17e4fcadcf52",
   "metadata": {},
   "source": [
    "Utilize <b>head()</b> and <b>tail()</b> methods for a concise and convenient preview of the first and last five rows in the DataFrame.\n"
   ]
  },
  {
   "cell_type": "code",
   "execution_count": 71,
   "id": "fd850266-1644-4254-a06c-d95969a346a7",
   "metadata": {},
   "outputs": [
    {
     "data": {
      "text/html": [
       "<div>\n",
       "<style scoped>\n",
       "    .dataframe tbody tr th:only-of-type {\n",
       "        vertical-align: middle;\n",
       "    }\n",
       "\n",
       "    .dataframe tbody tr th {\n",
       "        vertical-align: top;\n",
       "    }\n",
       "\n",
       "    .dataframe thead th {\n",
       "        text-align: right;\n",
       "    }\n",
       "</style>\n",
       "<table border=\"1\" class=\"dataframe\">\n",
       "  <thead>\n",
       "    <tr style=\"text-align: right;\">\n",
       "      <th></th>\n",
       "      <th>invoice_no</th>\n",
       "      <th>customer_id</th>\n",
       "      <th>gender</th>\n",
       "      <th>age</th>\n",
       "      <th>category</th>\n",
       "      <th>quantity</th>\n",
       "      <th>price</th>\n",
       "      <th>payment_method</th>\n",
       "      <th>invoice_date</th>\n",
       "      <th>shopping_mall</th>\n",
       "    </tr>\n",
       "  </thead>\n",
       "  <tbody>\n",
       "    <tr>\n",
       "      <th>0</th>\n",
       "      <td>I138884</td>\n",
       "      <td>C241288</td>\n",
       "      <td>Female</td>\n",
       "      <td>28</td>\n",
       "      <td>Clothing</td>\n",
       "      <td>5</td>\n",
       "      <td>1500.40</td>\n",
       "      <td>Credit Card</td>\n",
       "      <td>05-08-2022</td>\n",
       "      <td>Kanyon</td>\n",
       "    </tr>\n",
       "    <tr>\n",
       "      <th>1</th>\n",
       "      <td>I317333</td>\n",
       "      <td>C111565</td>\n",
       "      <td>Male</td>\n",
       "      <td>21</td>\n",
       "      <td>Shoes</td>\n",
       "      <td>3</td>\n",
       "      <td>1800.51</td>\n",
       "      <td>Debit Card</td>\n",
       "      <td>12-12-2021</td>\n",
       "      <td>Forum Istanbul</td>\n",
       "    </tr>\n",
       "    <tr>\n",
       "      <th>2</th>\n",
       "      <td>I127801</td>\n",
       "      <td>C266599</td>\n",
       "      <td>Male</td>\n",
       "      <td>20</td>\n",
       "      <td>Clothing</td>\n",
       "      <td>1</td>\n",
       "      <td>300.08</td>\n",
       "      <td>Cash</td>\n",
       "      <td>09-11-2021</td>\n",
       "      <td>Metrocity</td>\n",
       "    </tr>\n",
       "    <tr>\n",
       "      <th>3</th>\n",
       "      <td>I173702</td>\n",
       "      <td>C988172</td>\n",
       "      <td>Female</td>\n",
       "      <td>66</td>\n",
       "      <td>Shoes</td>\n",
       "      <td>5</td>\n",
       "      <td>3000.85</td>\n",
       "      <td>Credit Card</td>\n",
       "      <td>16-05-2021</td>\n",
       "      <td>Metropol AVM</td>\n",
       "    </tr>\n",
       "    <tr>\n",
       "      <th>4</th>\n",
       "      <td>I337046</td>\n",
       "      <td>C189076</td>\n",
       "      <td>Female</td>\n",
       "      <td>53</td>\n",
       "      <td>Books</td>\n",
       "      <td>4</td>\n",
       "      <td>60.60</td>\n",
       "      <td>Cash</td>\n",
       "      <td>24-10-2021</td>\n",
       "      <td>Kanyon</td>\n",
       "    </tr>\n",
       "  </tbody>\n",
       "</table>\n",
       "</div>"
      ],
      "text/plain": [
       "  invoice_no customer_id  gender  age  category  quantity    price  \\\n",
       "0    I138884     C241288  Female   28  Clothing         5  1500.40   \n",
       "1    I317333     C111565    Male   21     Shoes         3  1800.51   \n",
       "2    I127801     C266599    Male   20  Clothing         1   300.08   \n",
       "3    I173702     C988172  Female   66     Shoes         5  3000.85   \n",
       "4    I337046     C189076  Female   53     Books         4    60.60   \n",
       "\n",
       "  payment_method invoice_date   shopping_mall  \n",
       "0    Credit Card   05-08-2022          Kanyon  \n",
       "1     Debit Card   12-12-2021  Forum Istanbul  \n",
       "2           Cash   09-11-2021       Metrocity  \n",
       "3    Credit Card   16-05-2021    Metropol AVM  \n",
       "4           Cash   24-10-2021          Kanyon  "
      ]
     },
     "execution_count": 71,
     "metadata": {},
     "output_type": "execute_result"
    }
   ],
   "source": [
    "customer_shopping.head()"
   ]
  },
  {
   "cell_type": "code",
   "execution_count": 72,
   "id": "8177a3f3-4d99-456b-9ea0-ebd84173edf5",
   "metadata": {},
   "outputs": [
    {
     "data": {
      "text/html": [
       "<div>\n",
       "<style scoped>\n",
       "    .dataframe tbody tr th:only-of-type {\n",
       "        vertical-align: middle;\n",
       "    }\n",
       "\n",
       "    .dataframe tbody tr th {\n",
       "        vertical-align: top;\n",
       "    }\n",
       "\n",
       "    .dataframe thead th {\n",
       "        text-align: right;\n",
       "    }\n",
       "</style>\n",
       "<table border=\"1\" class=\"dataframe\">\n",
       "  <thead>\n",
       "    <tr style=\"text-align: right;\">\n",
       "      <th></th>\n",
       "      <th>invoice_no</th>\n",
       "      <th>customer_id</th>\n",
       "      <th>gender</th>\n",
       "      <th>age</th>\n",
       "      <th>category</th>\n",
       "      <th>quantity</th>\n",
       "      <th>price</th>\n",
       "      <th>payment_method</th>\n",
       "      <th>invoice_date</th>\n",
       "      <th>shopping_mall</th>\n",
       "    </tr>\n",
       "  </thead>\n",
       "  <tbody>\n",
       "    <tr>\n",
       "      <th>4995</th>\n",
       "      <td>I936915</td>\n",
       "      <td>C281211</td>\n",
       "      <td>Female</td>\n",
       "      <td>54</td>\n",
       "      <td>Clothing</td>\n",
       "      <td>3</td>\n",
       "      <td>900.24</td>\n",
       "      <td>Cash</td>\n",
       "      <td>03-12-2022</td>\n",
       "      <td>Zorlu Center</td>\n",
       "    </tr>\n",
       "    <tr>\n",
       "      <th>4996</th>\n",
       "      <td>I167850</td>\n",
       "      <td>C143851</td>\n",
       "      <td>Female</td>\n",
       "      <td>40</td>\n",
       "      <td>Shoes</td>\n",
       "      <td>5</td>\n",
       "      <td>3000.85</td>\n",
       "      <td>Cash</td>\n",
       "      <td>22-12-2022</td>\n",
       "      <td>Metropol AVM</td>\n",
       "    </tr>\n",
       "    <tr>\n",
       "      <th>4997</th>\n",
       "      <td>I854893</td>\n",
       "      <td>C752851</td>\n",
       "      <td>Male</td>\n",
       "      <td>34</td>\n",
       "      <td>Shoes</td>\n",
       "      <td>4</td>\n",
       "      <td>2400.68</td>\n",
       "      <td>Cash</td>\n",
       "      <td>27-01-2022</td>\n",
       "      <td>Mall of Istanbul</td>\n",
       "    </tr>\n",
       "    <tr>\n",
       "      <th>4998</th>\n",
       "      <td>I436005</td>\n",
       "      <td>C222228</td>\n",
       "      <td>Male</td>\n",
       "      <td>39</td>\n",
       "      <td>Clothing</td>\n",
       "      <td>2</td>\n",
       "      <td>600.16</td>\n",
       "      <td>Debit Card</td>\n",
       "      <td>28-05-2022</td>\n",
       "      <td>Mall of Istanbul</td>\n",
       "    </tr>\n",
       "    <tr>\n",
       "      <th>4999</th>\n",
       "      <td>I236679</td>\n",
       "      <td>C494016</td>\n",
       "      <td>Male</td>\n",
       "      <td>31</td>\n",
       "      <td>Food &amp; Beverage</td>\n",
       "      <td>4</td>\n",
       "      <td>20.92</td>\n",
       "      <td>Credit Card</td>\n",
       "      <td>14-10-2021</td>\n",
       "      <td>Metrocity</td>\n",
       "    </tr>\n",
       "  </tbody>\n",
       "</table>\n",
       "</div>"
      ],
      "text/plain": [
       "     invoice_no customer_id  gender  age         category  quantity    price  \\\n",
       "4995    I936915     C281211  Female   54         Clothing         3   900.24   \n",
       "4996    I167850     C143851  Female   40            Shoes         5  3000.85   \n",
       "4997    I854893     C752851    Male   34            Shoes         4  2400.68   \n",
       "4998    I436005     C222228    Male   39         Clothing         2   600.16   \n",
       "4999    I236679     C494016    Male   31  Food & Beverage         4    20.92   \n",
       "\n",
       "     payment_method invoice_date     shopping_mall  \n",
       "4995           Cash   03-12-2022      Zorlu Center  \n",
       "4996           Cash   22-12-2022      Metropol AVM  \n",
       "4997           Cash   27-01-2022  Mall of Istanbul  \n",
       "4998     Debit Card   28-05-2022  Mall of Istanbul  \n",
       "4999    Credit Card   14-10-2021         Metrocity  "
      ]
     },
     "execution_count": 72,
     "metadata": {},
     "output_type": "execute_result"
    }
   ],
   "source": [
    "customer_shopping.tail()"
   ]
  },
  {
   "cell_type": "code",
   "execution_count": 73,
   "id": "e5dc3f16-7a06-4f76-ba94-649388d03855",
   "metadata": {},
   "outputs": [
    {
     "data": {
      "text/plain": [
       "invoice_no        0\n",
       "customer_id       0\n",
       "gender            0\n",
       "age               0\n",
       "category          0\n",
       "quantity          0\n",
       "price             0\n",
       "payment_method    0\n",
       "invoice_date      0\n",
       "shopping_mall     0\n",
       "dtype: int64"
      ]
     },
     "execution_count": 73,
     "metadata": {},
     "output_type": "execute_result"
    }
   ],
   "source": [
    "customer_shopping.isnull().sum() # checking for missing values in the customer_shopping DataFrame"
   ]
  },
  {
   "cell_type": "code",
   "execution_count": 74,
   "id": "8a3c3a5b-2ee6-41cf-92b0-f9df0670de94",
   "metadata": {},
   "outputs": [
    {
     "data": {
      "text/plain": [
       "Index(['invoice_no', 'customer_id', 'gender', 'age', 'category', 'quantity',\n",
       "       'price', 'payment_method', 'invoice_date', 'shopping_mall'],\n",
       "      dtype='object')"
      ]
     },
     "execution_count": 74,
     "metadata": {},
     "output_type": "execute_result"
    }
   ],
   "source": [
    "customer_shopping.columns"
   ]
  },
  {
   "cell_type": "code",
   "execution_count": 75,
   "id": "ab6d44bc-0c99-44e5-9222-b0b6bf6bb619",
   "metadata": {},
   "outputs": [
    {
     "data": {
      "text/plain": [
       "invoice_no         object\n",
       "customer_id        object\n",
       "gender             object\n",
       "age                 int64\n",
       "category           object\n",
       "quantity            int64\n",
       "price             float64\n",
       "payment_method     object\n",
       "invoice_date       object\n",
       "shopping_mall      object\n",
       "dtype: object"
      ]
     },
     "execution_count": 75,
     "metadata": {},
     "output_type": "execute_result"
    }
   ],
   "source": [
    "customer_shopping.dtypes"
   ]
  },
  {
   "cell_type": "code",
   "execution_count": 76,
   "id": "c981c9fe-fd33-44fa-9f63-56da82f74aa4",
   "metadata": {},
   "outputs": [],
   "source": [
    "# Converting the data type of the \"invoice_date\" column from float to date to facilitate subsequent analysis.\n",
    "customer_shopping['invoice_date']=pd.to_datetime(customer_shopping['invoice_date'], format='%d-%m-%Y')"
   ]
  },
  {
   "cell_type": "code",
   "execution_count": 77,
   "id": "d9eba0c7-24e8-4161-8450-6a205fbef070",
   "metadata": {},
   "outputs": [
    {
     "name": "stdout",
     "output_type": "stream",
     "text": [
      "<class 'pandas.core.frame.DataFrame'>\n",
      "RangeIndex: 5000 entries, 0 to 4999\n",
      "Data columns (total 10 columns):\n",
      " #   Column          Non-Null Count  Dtype         \n",
      "---  ------          --------------  -----         \n",
      " 0   invoice_no      5000 non-null   object        \n",
      " 1   customer_id     5000 non-null   object        \n",
      " 2   gender          5000 non-null   object        \n",
      " 3   age             5000 non-null   int64         \n",
      " 4   category        5000 non-null   object        \n",
      " 5   quantity        5000 non-null   int64         \n",
      " 6   price           5000 non-null   float64       \n",
      " 7   payment_method  5000 non-null   object        \n",
      " 8   invoice_date    5000 non-null   datetime64[ns]\n",
      " 9   shopping_mall   5000 non-null   object        \n",
      "dtypes: datetime64[ns](1), float64(1), int64(2), object(6)\n",
      "memory usage: 390.8+ KB\n"
     ]
    }
   ],
   "source": [
    "customer_shopping.info()"
   ]
  },
  {
   "cell_type": "code",
   "execution_count": 78,
   "id": "4623e1f8-2a9b-497e-bcf0-c779bdb0e294",
   "metadata": {},
   "outputs": [
    {
     "data": {
      "text/plain": [
       "(5000, 10)"
      ]
     },
     "execution_count": 78,
     "metadata": {},
     "output_type": "execute_result"
    }
   ],
   "source": [
    "customer_shopping.shape"
   ]
  },
  {
   "cell_type": "code",
   "execution_count": 79,
   "id": "ba9bd4ec-bc25-4755-adfd-8fe803c5b2c7",
   "metadata": {},
   "outputs": [
    {
     "data": {
      "text/html": [
       "<div>\n",
       "<style scoped>\n",
       "    .dataframe tbody tr th:only-of-type {\n",
       "        vertical-align: middle;\n",
       "    }\n",
       "\n",
       "    .dataframe tbody tr th {\n",
       "        vertical-align: top;\n",
       "    }\n",
       "\n",
       "    .dataframe thead th {\n",
       "        text-align: right;\n",
       "    }\n",
       "</style>\n",
       "<table border=\"1\" class=\"dataframe\">\n",
       "  <thead>\n",
       "    <tr style=\"text-align: right;\">\n",
       "      <th></th>\n",
       "      <th>age</th>\n",
       "      <th>quantity</th>\n",
       "      <th>price</th>\n",
       "    </tr>\n",
       "  </thead>\n",
       "  <tbody>\n",
       "    <tr>\n",
       "      <th>count</th>\n",
       "      <td>5000.000000</td>\n",
       "      <td>5000.000000</td>\n",
       "      <td>5000.000000</td>\n",
       "    </tr>\n",
       "    <tr>\n",
       "      <th>mean</th>\n",
       "      <td>43.616000</td>\n",
       "      <td>3.008800</td>\n",
       "      <td>691.659792</td>\n",
       "    </tr>\n",
       "    <tr>\n",
       "      <th>std</th>\n",
       "      <td>14.936237</td>\n",
       "      <td>1.432457</td>\n",
       "      <td>971.386717</td>\n",
       "    </tr>\n",
       "    <tr>\n",
       "      <th>min</th>\n",
       "      <td>18.000000</td>\n",
       "      <td>1.000000</td>\n",
       "      <td>5.230000</td>\n",
       "    </tr>\n",
       "    <tr>\n",
       "      <th>25%</th>\n",
       "      <td>31.000000</td>\n",
       "      <td>2.000000</td>\n",
       "      <td>40.660000</td>\n",
       "    </tr>\n",
       "    <tr>\n",
       "      <th>50%</th>\n",
       "      <td>43.000000</td>\n",
       "      <td>3.000000</td>\n",
       "      <td>203.300000</td>\n",
       "    </tr>\n",
       "    <tr>\n",
       "      <th>75%</th>\n",
       "      <td>56.000000</td>\n",
       "      <td>4.000000</td>\n",
       "      <td>1200.320000</td>\n",
       "    </tr>\n",
       "    <tr>\n",
       "      <th>max</th>\n",
       "      <td>69.000000</td>\n",
       "      <td>5.000000</td>\n",
       "      <td>5250.000000</td>\n",
       "    </tr>\n",
       "  </tbody>\n",
       "</table>\n",
       "</div>"
      ],
      "text/plain": [
       "               age     quantity        price\n",
       "count  5000.000000  5000.000000  5000.000000\n",
       "mean     43.616000     3.008800   691.659792\n",
       "std      14.936237     1.432457   971.386717\n",
       "min      18.000000     1.000000     5.230000\n",
       "25%      31.000000     2.000000    40.660000\n",
       "50%      43.000000     3.000000   203.300000\n",
       "75%      56.000000     4.000000  1200.320000\n",
       "max      69.000000     5.000000  5250.000000"
      ]
     },
     "execution_count": 79,
     "metadata": {},
     "output_type": "execute_result"
    }
   ],
   "source": [
    "# it is used to generate descriptive statistics of the numerical columns in a DataFrame\n",
    "customer_shopping.describe()"
   ]
  },
  {
   "cell_type": "code",
   "execution_count": 80,
   "id": "ad22b967-5740-47d6-b63e-ce01a51cfc94",
   "metadata": {},
   "outputs": [
    {
     "data": {
      "text/html": [
       "<div>\n",
       "<style scoped>\n",
       "    .dataframe tbody tr th:only-of-type {\n",
       "        vertical-align: middle;\n",
       "    }\n",
       "\n",
       "    .dataframe tbody tr th {\n",
       "        vertical-align: top;\n",
       "    }\n",
       "\n",
       "    .dataframe thead th {\n",
       "        text-align: right;\n",
       "    }\n",
       "</style>\n",
       "<table border=\"1\" class=\"dataframe\">\n",
       "  <thead>\n",
       "    <tr style=\"text-align: right;\">\n",
       "      <th></th>\n",
       "      <th>invoice_no</th>\n",
       "      <th>customer_id</th>\n",
       "      <th>gender</th>\n",
       "      <th>category</th>\n",
       "      <th>payment_method</th>\n",
       "      <th>shopping_mall</th>\n",
       "    </tr>\n",
       "  </thead>\n",
       "  <tbody>\n",
       "    <tr>\n",
       "      <th>count</th>\n",
       "      <td>5000</td>\n",
       "      <td>5000</td>\n",
       "      <td>5000</td>\n",
       "      <td>5000</td>\n",
       "      <td>5000</td>\n",
       "      <td>5000</td>\n",
       "    </tr>\n",
       "    <tr>\n",
       "      <th>unique</th>\n",
       "      <td>5000</td>\n",
       "      <td>5000</td>\n",
       "      <td>2</td>\n",
       "      <td>8</td>\n",
       "      <td>3</td>\n",
       "      <td>10</td>\n",
       "    </tr>\n",
       "    <tr>\n",
       "      <th>top</th>\n",
       "      <td>I138884</td>\n",
       "      <td>C241288</td>\n",
       "      <td>Female</td>\n",
       "      <td>Clothing</td>\n",
       "      <td>Cash</td>\n",
       "      <td>Kanyon</td>\n",
       "    </tr>\n",
       "    <tr>\n",
       "      <th>freq</th>\n",
       "      <td>1</td>\n",
       "      <td>1</td>\n",
       "      <td>2959</td>\n",
       "      <td>1679</td>\n",
       "      <td>2169</td>\n",
       "      <td>1013</td>\n",
       "    </tr>\n",
       "  </tbody>\n",
       "</table>\n",
       "</div>"
      ],
      "text/plain": [
       "       invoice_no customer_id  gender  category payment_method shopping_mall\n",
       "count        5000        5000    5000      5000           5000          5000\n",
       "unique       5000        5000       2         8              3            10\n",
       "top       I138884     C241288  Female  Clothing           Cash        Kanyon\n",
       "freq            1           1    2959      1679           2169          1013"
      ]
     },
     "execution_count": 80,
     "metadata": {},
     "output_type": "execute_result"
    }
   ],
   "source": [
    "# it provides descriptive statistics for the categorical (object) columns in the DataFrame\n",
    "customer_shopping.describe(include = 'object')"
   ]
  },
  {
   "cell_type": "markdown",
   "id": "8f6ee646-9edc-4ff7-a7bf-67a19c97a1ea",
   "metadata": {},
   "source": [
    "### Analyzing Insights Through Data Exploration and Visualization"
   ]
  },
  {
   "cell_type": "markdown",
   "id": "728ddea8-6676-4119-a48d-dd26749d04ea",
   "metadata": {},
   "source": [
    "<b>1. Understanding How Gender Influences Shopping"
   ]
  },
  {
   "cell_type": "code",
   "execution_count": 81,
   "id": "3153d63d-dac7-46cb-be77-f73a64dea154",
   "metadata": {},
   "outputs": [
    {
     "data": {
      "text/html": [
       "<div>\n",
       "<style scoped>\n",
       "    .dataframe tbody tr th:only-of-type {\n",
       "        vertical-align: middle;\n",
       "    }\n",
       "\n",
       "    .dataframe tbody tr th {\n",
       "        vertical-align: top;\n",
       "    }\n",
       "\n",
       "    .dataframe thead th {\n",
       "        text-align: right;\n",
       "    }\n",
       "</style>\n",
       "<table border=\"1\" class=\"dataframe\">\n",
       "  <thead>\n",
       "    <tr style=\"text-align: right;\">\n",
       "      <th></th>\n",
       "      <th>Average_Age</th>\n",
       "      <th>No_Of_Products_Purchased</th>\n",
       "      <th>Total_Spend</th>\n",
       "    </tr>\n",
       "    <tr>\n",
       "      <th>gender</th>\n",
       "      <th></th>\n",
       "      <th></th>\n",
       "      <th></th>\n",
       "    </tr>\n",
       "  </thead>\n",
       "  <tbody>\n",
       "    <tr>\n",
       "      <th>Female</th>\n",
       "      <td>44.0</td>\n",
       "      <td>8910</td>\n",
       "      <td>1953199.0</td>\n",
       "    </tr>\n",
       "    <tr>\n",
       "      <th>Male</th>\n",
       "      <td>43.0</td>\n",
       "      <td>6134</td>\n",
       "      <td>1505100.0</td>\n",
       "    </tr>\n",
       "  </tbody>\n",
       "</table>\n",
       "</div>"
      ],
      "text/plain": [
       "        Average_Age  No_Of_Products_Purchased  Total_Spend\n",
       "gender                                                    \n",
       "Female         44.0                      8910    1953199.0\n",
       "Male           43.0                      6134    1505100.0"
      ]
     },
     "execution_count": 81,
     "metadata": {},
     "output_type": "execute_result"
    }
   ],
   "source": [
    "# Grouping the data by 'gender' to analyze gender-specific shopping characteristics\n",
    "gender_distribution = customer_shopping.groupby('gender').agg({'age':'mean','quantity':'sum','price':'sum'}).round()\n",
    "\n",
    "# Renaming columns for better clarity in the 'gender_distribution' DataFrame\n",
    "gender_distribution.rename(columns={'age':'Average_Age', 'quantity':'No_Of_Products_Purchased', 'price':'Total_Spend'})\n"
   ]
  },
  {
   "cell_type": "markdown",
   "id": "5c33fd23-0dd5-4a62-b738-40da5773cf1e",
   "metadata": {},
   "source": [
    "<p><i>On average, women tend to spend more and buy more items than men.</p>"
   ]
  },
  {
   "cell_type": "code",
   "execution_count": 82,
   "id": "2062fe7f-f6b7-40cc-a520-179da4fa3c17",
   "metadata": {},
   "outputs": [
    {
     "data": {
      "image/png": "[encoded data removed]",
      "text/plain": [
       "<Figure size 640x480 with 1 Axes>"
      ]
     },
     "metadata": {},
     "output_type": "display_data"
    }
   ],
   "source": [
    "# Creating a DataFrame to capture gender distribution\n",
    "customers = pd.DataFrame(customer_shopping['gender'].value_counts().reset_index())\n",
    "\n",
    "# Extracting data for plotting\n",
    "frequency = customers['gender']\n",
    "gender = customers['index']\n",
    "\n",
    "# Plotting a pie chart for gender distribution\n",
    "plt.pie(frequency, labels=gender, autopct='%1.f%%')\n",
    "plt.title(\"Gender Distribution\")\n",
    "plt.show()\n"
   ]
  },
  {
   "cell_type": "markdown",
   "id": "ee8cddc2-e304-4e23-9224-3f806ecd6c61",
   "metadata": {},
   "source": [
    "<i>Gender distribution analysis indicates a prevalent female majority, guiding potential marketing strategies"
   ]
  },
  {
   "cell_type": "markdown",
   "id": "fd748855-54b3-4628-9c0b-fe861b120705",
   "metadata": {},
   "source": [
    "<b>2. Analyzing Category Preferences Among Customers"
   ]
  },
  {
   "cell_type": "code",
   "execution_count": 83,
   "id": "16eb1bc1-3816-4fb6-83a4-88d813a89d44",
   "metadata": {},
   "outputs": [],
   "source": [
    "# Grouping by category and aggregating total quantity\n",
    "category_preference = customer_shopping.groupby('category')['quantity'].sum().reset_index()\n",
    "\n",
    "# Sorting categories by quantity in descending order\n",
    "category_preference = category_preference.sort_values(by=\"quantity\", ascending=False)\n",
    "\n",
    "# Extracting category and quantity data\n",
    "category = category_preference['category']\n",
    "quantity = category_preference['quantity']\n"
   ]
  },
  {
   "cell_type": "code",
   "execution_count": 84,
   "id": "4e26e3fe-c5d4-4cf4-a61a-9d710d8e3b4d",
   "metadata": {},
   "outputs": [
    {
     "data": {
      "image/png": "[encoded data removed]",
      "text/plain": [
       "<Figure size 1500x600 with 1 Axes>"
      ]
     },
     "metadata": {},
     "output_type": "display_data"
    }
   ],
   "source": [
    "# Plotting a bar chart for category preference\n",
    "plt.figure(figsize=(15, 6))\n",
    "plt.bar(category, quantity)\n",
    "plt.title(\"Total Items Sold in Each Category\")\n",
    "plt.ylabel(\"Total Items Sold\")\n",
    "plt.show()"
   ]
  },
  {
   "cell_type": "markdown",
   "id": "8dca62cd-3b30-4291-b23b-7d40a618d3b1",
   "metadata": {},
   "source": [
    "<i>Clothing emerges as the top-sold category, followed by cosmetics and food & beverage, as depicted by the bar chart showing the total items sold in each category"
   ]
  },
  {
   "cell_type": "markdown",
   "id": "b1cd41bd-143c-4c3a-8642-ef71018fec24",
   "metadata": {},
   "source": [
    "<b>Category Preferences by Gender"
   ]
  },
  {
   "cell_type": "code",
   "execution_count": 85,
   "id": "ee2de232-2e7c-4cba-b07f-6345395808e2",
   "metadata": {},
   "outputs": [
    {
     "data": {
      "text/html": [
       "<div>\n",
       "<style scoped>\n",
       "    .dataframe tbody tr th:only-of-type {\n",
       "        vertical-align: middle;\n",
       "    }\n",
       "\n",
       "    .dataframe tbody tr th {\n",
       "        vertical-align: top;\n",
       "    }\n",
       "\n",
       "    .dataframe thead th {\n",
       "        text-align: right;\n",
       "    }\n",
       "</style>\n",
       "<table border=\"1\" class=\"dataframe\">\n",
       "  <thead>\n",
       "    <tr style=\"text-align: right;\">\n",
       "      <th></th>\n",
       "      <th></th>\n",
       "      <th>No Of Products Purchased</th>\n",
       "    </tr>\n",
       "    <tr>\n",
       "      <th>category</th>\n",
       "      <th>gender</th>\n",
       "      <th></th>\n",
       "    </tr>\n",
       "  </thead>\n",
       "  <tbody>\n",
       "    <tr>\n",
       "      <th rowspan=\"2\" valign=\"top\">Books</th>\n",
       "      <th>Female</th>\n",
       "      <td>388</td>\n",
       "    </tr>\n",
       "    <tr>\n",
       "      <th>Male</th>\n",
       "      <td>349</td>\n",
       "    </tr>\n",
       "    <tr>\n",
       "      <th rowspan=\"2\" valign=\"top\">Clothing</th>\n",
       "      <th>Female</th>\n",
       "      <td>2862</td>\n",
       "    </tr>\n",
       "    <tr>\n",
       "      <th>Male</th>\n",
       "      <td>2089</td>\n",
       "    </tr>\n",
       "    <tr>\n",
       "      <th rowspan=\"2\" valign=\"top\">Cosmetics</th>\n",
       "      <th>Female</th>\n",
       "      <td>1503</td>\n",
       "    </tr>\n",
       "    <tr>\n",
       "      <th>Male</th>\n",
       "      <td>933</td>\n",
       "    </tr>\n",
       "    <tr>\n",
       "      <th rowspan=\"2\" valign=\"top\">Food &amp; Beverage</th>\n",
       "      <th>Female</th>\n",
       "      <td>1440</td>\n",
       "    </tr>\n",
       "    <tr>\n",
       "      <th>Male</th>\n",
       "      <td>908</td>\n",
       "    </tr>\n",
       "    <tr>\n",
       "      <th rowspan=\"2\" valign=\"top\">Shoes</th>\n",
       "      <th>Female</th>\n",
       "      <td>852</td>\n",
       "    </tr>\n",
       "    <tr>\n",
       "      <th>Male</th>\n",
       "      <td>683</td>\n",
       "    </tr>\n",
       "    <tr>\n",
       "      <th rowspan=\"2\" valign=\"top\">Souvenir</th>\n",
       "      <th>Female</th>\n",
       "      <td>526</td>\n",
       "    </tr>\n",
       "    <tr>\n",
       "      <th>Male</th>\n",
       "      <td>292</td>\n",
       "    </tr>\n",
       "    <tr>\n",
       "      <th rowspan=\"2\" valign=\"top\">Technology</th>\n",
       "      <th>Female</th>\n",
       "      <td>448</td>\n",
       "    </tr>\n",
       "    <tr>\n",
       "      <th>Male</th>\n",
       "      <td>380</td>\n",
       "    </tr>\n",
       "    <tr>\n",
       "      <th rowspan=\"2\" valign=\"top\">Toys</th>\n",
       "      <th>Female</th>\n",
       "      <td>891</td>\n",
       "    </tr>\n",
       "    <tr>\n",
       "      <th>Male</th>\n",
       "      <td>500</td>\n",
       "    </tr>\n",
       "  </tbody>\n",
       "</table>\n",
       "</div>"
      ],
      "text/plain": [
       "                        No Of Products Purchased\n",
       "category        gender                          \n",
       "Books           Female                       388\n",
       "                Male                         349\n",
       "Clothing        Female                      2862\n",
       "                Male                        2089\n",
       "Cosmetics       Female                      1503\n",
       "                Male                         933\n",
       "Food & Beverage Female                      1440\n",
       "                Male                         908\n",
       "Shoes           Female                       852\n",
       "                Male                         683\n",
       "Souvenir        Female                       526\n",
       "                Male                         292\n",
       "Technology      Female                       448\n",
       "                Male                         380\n",
       "Toys            Female                       891\n",
       "                Male                         500"
      ]
     },
     "execution_count": 85,
     "metadata": {},
     "output_type": "execute_result"
    }
   ],
   "source": [
    "# Creating a DataFrame for category-wise quantity analysis by gender\n",
    "category_by_gender = pd.DataFrame(customer_shopping.groupby(['category', 'gender'])['quantity'].sum().round())\n",
    "\n",
    "# Renaming the 'quantity' column for clarity\n",
    "category_by_gender.rename(columns={'quantity': 'No Of Products Purchased'})\n"
   ]
  },
  {
   "cell_type": "markdown",
   "id": "34d0fc27-5a4f-4c14-a097-82a5c9d0f0bc",
   "metadata": {},
   "source": [
    "<i>Female customers show a preference for clothing, cosmetics, and food & beverage, while males prioritize clothing, books, and cosmetics, based on category-wise quantity analysis"
   ]
  },
  {
   "cell_type": "markdown",
   "id": "cdafdfde-0a6d-4965-b9ba-255cf0f0ec70",
   "metadata": {},
   "source": [
    "<b>3. Unpacking Payment Preferences of Customers"
   ]
  },
  {
   "cell_type": "code",
   "execution_count": 86,
   "id": "478049f9-5e0d-447f-8d06-909174f9053c",
   "metadata": {},
   "outputs": [
    {
     "data": {
      "image/png": "[encoded data removed]",
      "text/plain": [
       "<Figure size 640x480 with 1 Axes>"
      ]
     },
     "metadata": {},
     "output_type": "display_data"
    }
   ],
   "source": [
    "# Creating a DataFrame for payment method distribution\n",
    "customer_payment = pd.DataFrame(customer_shopping['payment_method'].value_counts().reset_index())\n",
    "\n",
    "# Extracting data for plotting\n",
    "frequency = customer_payment['payment_method']\n",
    "payment_method = customer_payment['index']\n",
    "\n",
    "# Plotting a pie chart for payment method distribution\n",
    "plt.pie(frequency, labels=payment_method, autopct='%1.f%%', colors=['g', 'b', 'y'])\n",
    "plt.title(\"Payment Method Distribution\")\n",
    "plt.show()\n"
   ]
  },
  {
   "cell_type": "markdown",
   "id": "2cc261af-d19b-4304-b897-22e305409a64",
   "metadata": {},
   "source": [
    "<i>Customer payment preferences exhibit diversity, with a notable preference for cash and credit cards"
   ]
  },
  {
   "cell_type": "markdown",
   "id": "805f2192-b004-46be-a21e-c6b24976ed73",
   "metadata": {},
   "source": [
    " <b>4. Examining Shopping Preferences Across Different Malls"
   ]
  },
  {
   "cell_type": "code",
   "execution_count": 87,
   "id": "1f15fbaa-77b5-4a8f-9434-6b6469dfe4d6",
   "metadata": {},
   "outputs": [
    {
     "data": {
      "image/png": "[encoded data removed]",
      "text/plain": [
       "<Figure size 640x480 with 1 Axes>"
      ]
     },
     "metadata": {},
     "output_type": "display_data"
    }
   ],
   "source": [
    "# Creating a DataFrame for total customers in each shopping mall\n",
    "shopping_mall = pd.DataFrame(customer_shopping.groupby('shopping_mall')['customer_id'].count().sort_values()).reset_index()\n",
    "\n",
    "# Extracting data for plotting\n",
    "no_of_customers = shopping_mall['customer_id']\n",
    "shopping_malls = shopping_mall['shopping_mall']\n",
    "\n",
    "# Plotting a horizontal bar chart for total customers in each shopping mall\n",
    "plt.barh(shopping_malls, no_of_customers)\n",
    "plt.title(\"Total Customers In Each Shopping Mall\")\n",
    "plt.tight_layout()\n",
    "plt.show()\n"
   ]
  },
  {
   "cell_type": "markdown",
   "id": "4db90d18-b1c1-4fea-ab41-dc43cd32dd32",
   "metadata": {},
   "source": [
    "<i>Explore a diverse shopping landscape where Kanyon and Mall of Istanbul emerge as prominent destinations, captivating the highest footfall."
   ]
  },
  {
   "cell_type": "markdown",
   "id": "3099aba7-1aa7-45c2-9168-2cd955f541f4",
   "metadata": {},
   "source": [
    "<b>5. Tracking Yearly Sales Trends in Malls"
   ]
  },
  {
   "cell_type": "code",
   "execution_count": 88,
   "id": "a1a9bf24-6598-4762-97f1-2b631a816ab1",
   "metadata": {},
   "outputs": [],
   "source": [
    "# Creating a new DataFrame with a 'Year' column extracted from the 'invoice_date'\n",
    "yearly_sales = customer_shopping.assign(Year=customer_shopping.invoice_date.dt.year)\n"
   ]
  },
  {
   "cell_type": "code",
   "execution_count": 89,
   "id": "551f6f58-addf-46e8-8f9d-f335a1b44bc5",
   "metadata": {},
   "outputs": [],
   "source": [
    "# Creating a DataFrame for yearly sales trends in each shopping mall\n",
    "sales_trend = pd.DataFrame(yearly_sales.groupby(['Year', 'shopping_mall'])['quantity'].sum()).reset_index()\n",
    "\n",
    "# Extracting unique shopping mall names\n",
    "shopping_malls = sales_trend['shopping_mall'].unique()\n",
    "\n",
    "# Filtering sales data for each year\n",
    "year_1 = sales_trend['Year'] == 2021\n",
    "year_2 = sales_trend['Year'] == 2022\n",
    "\n",
    "# Extracting total sales for each year\n",
    "total_sales_1 = sales_trend['quantity'][year_1]\n",
    "total_sales_2 = sales_trend['quantity'][year_2]\n"
   ]
  },
  {
   "cell_type": "code",
   "execution_count": 90,
   "id": "702a3cab-6730-4db9-9c93-b3475d67a5be",
   "metadata": {},
   "outputs": [
    {
     "data": {
      "image/png": "[encoded data removed]",
      "text/plain": [
       "<Figure size 2000x700 with 1 Axes>"
      ]
     },
     "metadata": {},
     "output_type": "display_data"
    }
   ],
   "source": [
    "# Plotting yearly sales trends in shopping malls\n",
    "plt.figure(figsize=(20, 7))\n",
    "plt.plot(shopping_malls, total_sales_1, label='2021')\n",
    "plt.plot(shopping_malls, total_sales_2, label='2022')\n",
    "plt.ylim([0, max(total_sales_1) + 200])\n",
    "plt.title('Yearly Sales Trends in Shopping Malls')\n",
    "plt.ylabel('Total Items Sold')\n",
    "plt.legend()\n",
    "plt.grid(True)\n",
    "plt.savefig('Y_mall.png')\n",
    "plt.show()\n"
   ]
  },
  {
   "cell_type": "markdown",
   "id": "e9e4168c-8869-4883-b929-727f3f2e8f9f",
   "metadata": {},
   "source": [
    "<i>The yearly sales trends for 2021 and 2022 unveil a nuanced narrative. Notably, Kanyon and Metropol AVM exhibit an upward trajectory, while Mall of Istanbul encounters a dip. These insights serve as valuable cues for refining marketing strategies"
   ]
  },
  {
   "cell_type": "markdown",
   "id": "ea90f316-73fd-4c25-9459-bc757598e798",
   "metadata": {},
   "source": [
    "<b> Shopping Mall Sales Frequency by Gender\n"
   ]
  },
  {
   "cell_type": "code",
   "execution_count": 91,
   "id": "0703c7e2-b0e4-42e7-9aee-1a29db3be3ab",
   "metadata": {},
   "outputs": [
    {
     "data": {
      "text/html": [
       "<div>\n",
       "<style scoped>\n",
       "    .dataframe tbody tr th:only-of-type {\n",
       "        vertical-align: middle;\n",
       "    }\n",
       "\n",
       "    .dataframe tbody tr th {\n",
       "        vertical-align: top;\n",
       "    }\n",
       "\n",
       "    .dataframe thead th {\n",
       "        text-align: right;\n",
       "    }\n",
       "</style>\n",
       "<table border=\"1\" class=\"dataframe\">\n",
       "  <thead>\n",
       "    <tr style=\"text-align: right;\">\n",
       "      <th></th>\n",
       "      <th></th>\n",
       "      <th>frequency</th>\n",
       "    </tr>\n",
       "    <tr>\n",
       "      <th>shopping_mall</th>\n",
       "      <th>gender</th>\n",
       "      <th></th>\n",
       "    </tr>\n",
       "  </thead>\n",
       "  <tbody>\n",
       "    <tr>\n",
       "      <th rowspan=\"2\" valign=\"top\">Cevahir AVM</th>\n",
       "      <th>Female</th>\n",
       "      <td>141</td>\n",
       "    </tr>\n",
       "    <tr>\n",
       "      <th>Male</th>\n",
       "      <td>97</td>\n",
       "    </tr>\n",
       "    <tr>\n",
       "      <th rowspan=\"2\" valign=\"top\">Emaar Square Mall</th>\n",
       "      <th>Female</th>\n",
       "      <td>140</td>\n",
       "    </tr>\n",
       "    <tr>\n",
       "      <th>Male</th>\n",
       "      <td>97</td>\n",
       "    </tr>\n",
       "    <tr>\n",
       "      <th rowspan=\"2\" valign=\"top\">Forum Istanbul</th>\n",
       "      <th>Female</th>\n",
       "      <td>159</td>\n",
       "    </tr>\n",
       "    <tr>\n",
       "      <th>Male</th>\n",
       "      <td>89</td>\n",
       "    </tr>\n",
       "    <tr>\n",
       "      <th rowspan=\"2\" valign=\"top\">Istinye Park</th>\n",
       "      <th>Female</th>\n",
       "      <td>286</td>\n",
       "    </tr>\n",
       "    <tr>\n",
       "      <th>Male</th>\n",
       "      <td>190</td>\n",
       "    </tr>\n",
       "    <tr>\n",
       "      <th rowspan=\"2\" valign=\"top\">Kanyon</th>\n",
       "      <th>Female</th>\n",
       "      <td>594</td>\n",
       "    </tr>\n",
       "    <tr>\n",
       "      <th>Male</th>\n",
       "      <td>419</td>\n",
       "    </tr>\n",
       "    <tr>\n",
       "      <th rowspan=\"2\" valign=\"top\">Mall of Istanbul</th>\n",
       "      <th>Female</th>\n",
       "      <td>596</td>\n",
       "    </tr>\n",
       "    <tr>\n",
       "      <th>Male</th>\n",
       "      <td>400</td>\n",
       "    </tr>\n",
       "    <tr>\n",
       "      <th rowspan=\"2\" valign=\"top\">Metrocity</th>\n",
       "      <th>Female</th>\n",
       "      <td>430</td>\n",
       "    </tr>\n",
       "    <tr>\n",
       "      <th>Male</th>\n",
       "      <td>323</td>\n",
       "    </tr>\n",
       "    <tr>\n",
       "      <th rowspan=\"2\" valign=\"top\">Metropol AVM</th>\n",
       "      <th>Female</th>\n",
       "      <td>318</td>\n",
       "    </tr>\n",
       "    <tr>\n",
       "      <th>Male</th>\n",
       "      <td>225</td>\n",
       "    </tr>\n",
       "    <tr>\n",
       "      <th rowspan=\"2\" valign=\"top\">Viaport Outlet</th>\n",
       "      <th>Female</th>\n",
       "      <td>154</td>\n",
       "    </tr>\n",
       "    <tr>\n",
       "      <th>Male</th>\n",
       "      <td>91</td>\n",
       "    </tr>\n",
       "    <tr>\n",
       "      <th rowspan=\"2\" valign=\"top\">Zorlu Center</th>\n",
       "      <th>Female</th>\n",
       "      <td>141</td>\n",
       "    </tr>\n",
       "    <tr>\n",
       "      <th>Male</th>\n",
       "      <td>110</td>\n",
       "    </tr>\n",
       "  </tbody>\n",
       "</table>\n",
       "</div>"
      ],
      "text/plain": [
       "                          frequency\n",
       "shopping_mall     gender           \n",
       "Cevahir AVM       Female        141\n",
       "                  Male           97\n",
       "Emaar Square Mall Female        140\n",
       "                  Male           97\n",
       "Forum Istanbul    Female        159\n",
       "                  Male           89\n",
       "Istinye Park      Female        286\n",
       "                  Male          190\n",
       "Kanyon            Female        594\n",
       "                  Male          419\n",
       "Mall of Istanbul  Female        596\n",
       "                  Male          400\n",
       "Metrocity         Female        430\n",
       "                  Male          323\n",
       "Metropol AVM      Female        318\n",
       "                  Male          225\n",
       "Viaport Outlet    Female        154\n",
       "                  Male           91\n",
       "Zorlu Center      Female        141\n",
       "                  Male          110"
      ]
     },
     "execution_count": 91,
     "metadata": {},
     "output_type": "execute_result"
    }
   ],
   "source": [
    "# Creating a DataFrame for shopping mall sales frequency by gender\n",
    "shopping_mall_sales = pd.DataFrame(customer_shopping.groupby(['shopping_mall', 'gender'])['quantity'].count())\n",
    "\n",
    "# Renaming the 'quantity' column for clarity in interpretation\n",
    "shopping_mall_sales.rename(columns={'quantity': 'frequency'})\n"
   ]
  },
  {
   "cell_type": "markdown",
   "id": "473524b1-b5c0-4ad7-ac79-05d1e5a20d56",
   "metadata": {},
   "source": [
    "<i>The frequency analysis highlights diverse customer engagement across shopping malls, with Kanyon and Mall of Istanbul showing higher participation."
   ]
  },
  {
   "cell_type": "markdown",
   "id": "6fcb3282-2d15-48be-bd53-9abe40ec3485",
   "metadata": {},
   "source": [
    "<b> Payment Method Preferences Across Shopping Malls"
   ]
  },
  {
   "cell_type": "code",
   "execution_count": 92,
   "id": "c9892ded-7ac7-4b76-8eff-b68e741ca84b",
   "metadata": {},
   "outputs": [
    {
     "data": {
      "text/html": [
       "<div>\n",
       "<style scoped>\n",
       "    .dataframe tbody tr th:only-of-type {\n",
       "        vertical-align: middle;\n",
       "    }\n",
       "\n",
       "    .dataframe tbody tr th {\n",
       "        vertical-align: top;\n",
       "    }\n",
       "\n",
       "    .dataframe thead th {\n",
       "        text-align: right;\n",
       "    }\n",
       "</style>\n",
       "<table border=\"1\" class=\"dataframe\">\n",
       "  <thead>\n",
       "    <tr style=\"text-align: right;\">\n",
       "      <th></th>\n",
       "      <th></th>\n",
       "      <th>frequency</th>\n",
       "    </tr>\n",
       "    <tr>\n",
       "      <th>shopping_mall</th>\n",
       "      <th>payment_method</th>\n",
       "      <th></th>\n",
       "    </tr>\n",
       "  </thead>\n",
       "  <tbody>\n",
       "    <tr>\n",
       "      <th rowspan=\"3\" valign=\"top\">Cevahir AVM</th>\n",
       "      <th>Cash</th>\n",
       "      <td>116</td>\n",
       "    </tr>\n",
       "    <tr>\n",
       "      <th>Credit Card</th>\n",
       "      <td>82</td>\n",
       "    </tr>\n",
       "    <tr>\n",
       "      <th>Debit Card</th>\n",
       "      <td>40</td>\n",
       "    </tr>\n",
       "    <tr>\n",
       "      <th rowspan=\"3\" valign=\"top\">Emaar Square Mall</th>\n",
       "      <th>Cash</th>\n",
       "      <td>82</td>\n",
       "    </tr>\n",
       "    <tr>\n",
       "      <th>Credit Card</th>\n",
       "      <td>100</td>\n",
       "    </tr>\n",
       "    <tr>\n",
       "      <th>Debit Card</th>\n",
       "      <td>55</td>\n",
       "    </tr>\n",
       "    <tr>\n",
       "      <th rowspan=\"3\" valign=\"top\">Forum Istanbul</th>\n",
       "      <th>Cash</th>\n",
       "      <td>109</td>\n",
       "    </tr>\n",
       "    <tr>\n",
       "      <th>Credit Card</th>\n",
       "      <td>91</td>\n",
       "    </tr>\n",
       "    <tr>\n",
       "      <th>Debit Card</th>\n",
       "      <td>48</td>\n",
       "    </tr>\n",
       "    <tr>\n",
       "      <th rowspan=\"3\" valign=\"top\">Istinye Park</th>\n",
       "      <th>Cash</th>\n",
       "      <td>206</td>\n",
       "    </tr>\n",
       "    <tr>\n",
       "      <th>Credit Card</th>\n",
       "      <td>174</td>\n",
       "    </tr>\n",
       "    <tr>\n",
       "      <th>Debit Card</th>\n",
       "      <td>96</td>\n",
       "    </tr>\n",
       "    <tr>\n",
       "      <th rowspan=\"3\" valign=\"top\">Kanyon</th>\n",
       "      <th>Cash</th>\n",
       "      <td>443</td>\n",
       "    </tr>\n",
       "    <tr>\n",
       "      <th>Credit Card</th>\n",
       "      <td>352</td>\n",
       "    </tr>\n",
       "    <tr>\n",
       "      <th>Debit Card</th>\n",
       "      <td>218</td>\n",
       "    </tr>\n",
       "    <tr>\n",
       "      <th rowspan=\"3\" valign=\"top\">Mall of Istanbul</th>\n",
       "      <th>Cash</th>\n",
       "      <td>431</td>\n",
       "    </tr>\n",
       "    <tr>\n",
       "      <th>Credit Card</th>\n",
       "      <td>359</td>\n",
       "    </tr>\n",
       "    <tr>\n",
       "      <th>Debit Card</th>\n",
       "      <td>206</td>\n",
       "    </tr>\n",
       "    <tr>\n",
       "      <th rowspan=\"3\" valign=\"top\">Metrocity</th>\n",
       "      <th>Cash</th>\n",
       "      <td>331</td>\n",
       "    </tr>\n",
       "    <tr>\n",
       "      <th>Credit Card</th>\n",
       "      <td>270</td>\n",
       "    </tr>\n",
       "    <tr>\n",
       "      <th>Debit Card</th>\n",
       "      <td>152</td>\n",
       "    </tr>\n",
       "    <tr>\n",
       "      <th rowspan=\"3\" valign=\"top\">Metropol AVM</th>\n",
       "      <th>Cash</th>\n",
       "      <td>246</td>\n",
       "    </tr>\n",
       "    <tr>\n",
       "      <th>Credit Card</th>\n",
       "      <td>180</td>\n",
       "    </tr>\n",
       "    <tr>\n",
       "      <th>Debit Card</th>\n",
       "      <td>117</td>\n",
       "    </tr>\n",
       "    <tr>\n",
       "      <th rowspan=\"3\" valign=\"top\">Viaport Outlet</th>\n",
       "      <th>Cash</th>\n",
       "      <td>107</td>\n",
       "    </tr>\n",
       "    <tr>\n",
       "      <th>Credit Card</th>\n",
       "      <td>86</td>\n",
       "    </tr>\n",
       "    <tr>\n",
       "      <th>Debit Card</th>\n",
       "      <td>52</td>\n",
       "    </tr>\n",
       "    <tr>\n",
       "      <th rowspan=\"3\" valign=\"top\">Zorlu Center</th>\n",
       "      <th>Cash</th>\n",
       "      <td>98</td>\n",
       "    </tr>\n",
       "    <tr>\n",
       "      <th>Credit Card</th>\n",
       "      <td>89</td>\n",
       "    </tr>\n",
       "    <tr>\n",
       "      <th>Debit Card</th>\n",
       "      <td>64</td>\n",
       "    </tr>\n",
       "  </tbody>\n",
       "</table>\n",
       "</div>"
      ],
      "text/plain": [
       "                                  frequency\n",
       "shopping_mall     payment_method           \n",
       "Cevahir AVM       Cash                  116\n",
       "                  Credit Card            82\n",
       "                  Debit Card             40\n",
       "Emaar Square Mall Cash                   82\n",
       "                  Credit Card           100\n",
       "                  Debit Card             55\n",
       "Forum Istanbul    Cash                  109\n",
       "                  Credit Card            91\n",
       "                  Debit Card             48\n",
       "Istinye Park      Cash                  206\n",
       "                  Credit Card           174\n",
       "                  Debit Card             96\n",
       "Kanyon            Cash                  443\n",
       "                  Credit Card           352\n",
       "                  Debit Card            218\n",
       "Mall of Istanbul  Cash                  431\n",
       "                  Credit Card           359\n",
       "                  Debit Card            206\n",
       "Metrocity         Cash                  331\n",
       "                  Credit Card           270\n",
       "                  Debit Card            152\n",
       "Metropol AVM      Cash                  246\n",
       "                  Credit Card           180\n",
       "                  Debit Card            117\n",
       "Viaport Outlet    Cash                  107\n",
       "                  Credit Card            86\n",
       "                  Debit Card             52\n",
       "Zorlu Center      Cash                   98\n",
       "                  Credit Card            89\n",
       "                  Debit Card             64"
      ]
     },
     "execution_count": 92,
     "metadata": {},
     "output_type": "execute_result"
    }
   ],
   "source": [
    "# Creating a DataFrame for payment method frequency by shopping mall\n",
    "payment_method_frequency = pd.DataFrame(customer_shopping.groupby(['shopping_mall', 'payment_method'])['quantity'].count())\n",
    "\n",
    "# Renaming the 'quantity' column for clarity in interpretation\n",
    "payment_method_frequency.rename(columns={'quantity': 'frequency'})\n"
   ]
  },
  {
   "cell_type": "markdown",
   "id": "ba6d9581-5188-474b-8653-c39e3b4b33f6",
   "metadata": {},
   "source": [
    "<p><i>The analysis of payment method frequency by shopping mall reveals diverse consumer preferences, with cash being prevalent and credit cards consistently used.</p>\n",
    "<p><i>This insight informs strategic decisions for optimizing payment options and enhancing the shopping experience.</p>"
   ]
  },
  {
   "cell_type": "markdown",
   "id": "ba99775c-c4af-438a-b0b3-54be402164c9",
   "metadata": {},
   "source": [
    "<b>6. Analyzing Monthly Shopping Patterns"
   ]
  },
  {
   "cell_type": "code",
   "execution_count": 93,
   "id": "656c242f-3f5d-4223-8dfd-779d290d03e4",
   "metadata": {},
   "outputs": [
    {
     "data": {
      "text/html": [
       "<div>\n",
       "<style scoped>\n",
       "    .dataframe tbody tr th:only-of-type {\n",
       "        vertical-align: middle;\n",
       "    }\n",
       "\n",
       "    .dataframe tbody tr th {\n",
       "        vertical-align: top;\n",
       "    }\n",
       "\n",
       "    .dataframe thead th {\n",
       "        text-align: right;\n",
       "    }\n",
       "</style>\n",
       "<table border=\"1\" class=\"dataframe\">\n",
       "  <thead>\n",
       "    <tr style=\"text-align: right;\">\n",
       "      <th></th>\n",
       "      <th>Total Items Sold</th>\n",
       "    </tr>\n",
       "    <tr>\n",
       "      <th>months</th>\n",
       "      <th></th>\n",
       "    </tr>\n",
       "  </thead>\n",
       "  <tbody>\n",
       "    <tr>\n",
       "      <th>1</th>\n",
       "      <td>1614</td>\n",
       "    </tr>\n",
       "    <tr>\n",
       "      <th>2</th>\n",
       "      <td>1515</td>\n",
       "    </tr>\n",
       "    <tr>\n",
       "      <th>3</th>\n",
       "      <td>1426</td>\n",
       "    </tr>\n",
       "    <tr>\n",
       "      <th>10</th>\n",
       "      <td>1253</td>\n",
       "    </tr>\n",
       "    <tr>\n",
       "      <th>9</th>\n",
       "      <td>1223</td>\n",
       "    </tr>\n",
       "    <tr>\n",
       "      <th>12</th>\n",
       "      <td>1205</td>\n",
       "    </tr>\n",
       "    <tr>\n",
       "      <th>11</th>\n",
       "      <td>1203</td>\n",
       "    </tr>\n",
       "    <tr>\n",
       "      <th>8</th>\n",
       "      <td>1178</td>\n",
       "    </tr>\n",
       "    <tr>\n",
       "      <th>7</th>\n",
       "      <td>1162</td>\n",
       "    </tr>\n",
       "    <tr>\n",
       "      <th>6</th>\n",
       "      <td>1147</td>\n",
       "    </tr>\n",
       "    <tr>\n",
       "      <th>4</th>\n",
       "      <td>1113</td>\n",
       "    </tr>\n",
       "    <tr>\n",
       "      <th>5</th>\n",
       "      <td>1005</td>\n",
       "    </tr>\n",
       "  </tbody>\n",
       "</table>\n",
       "</div>"
      ],
      "text/plain": [
       "        Total Items Sold\n",
       "months                  \n",
       "1                   1614\n",
       "2                   1515\n",
       "3                   1426\n",
       "10                  1253\n",
       "9                   1223\n",
       "12                  1205\n",
       "11                  1203\n",
       "8                   1178\n",
       "7                   1162\n",
       "6                   1147\n",
       "4                   1113\n",
       "5                   1005"
      ]
     },
     "execution_count": 93,
     "metadata": {},
     "output_type": "execute_result"
    }
   ],
   "source": [
    "# Assigning a 'months' column to the existing DataFrame based on the 'invoice_date' month\n",
    "monthly_sales = customer_shopping.assign(months=customer_shopping.invoice_date.dt.month)\n",
    "\n",
    "# Creating a DataFrame for monthly sales analysis\n",
    "monthly_sales = pd.DataFrame(monthly_sales.groupby('months')['quantity'].sum()).sort_values(by='quantity', ascending=False)\n",
    "\n",
    "# Renaming the 'quantity' column to 'Total Items Sold' for clarity in interpretation\n",
    "monthly_sales.rename(columns={'quantity': 'Total Items Sold'})\n"
   ]
  },
  {
   "cell_type": "markdown",
   "id": "643cd397-66b3-40a3-94b5-9d841fe5536c",
   "metadata": {},
   "source": [
    "<i>The monthly sales analysis reveals peak sales in January, gradually declining thereafter. May registers the lowest sales, suggesting potential seasonal variations in customer shopping behavior"
   ]
  },
  {
   "cell_type": "markdown",
   "id": "060fb0f4-c50d-4c72-81ac-107fc41e30ed",
   "metadata": {},
   "source": [
    "<h3><b>Conclusion:</h3>\n",
    "\n",
    "<p>The comprehensive analysis of the Customer Shopping Dataset reveals valuable insights into customer preferences and behavior. Gender-specific category preferences indicate that females tend to purchase more items, particularly in categories like Clothing, Cosmetics, and Food & Beverage.\n",
    "\n",
    "\n",
    "<p>Furthermore, the examination of payment methods across shopping malls highlights a diverse range of preferences, with cash and credit cards being the predominant choices.\n",
    "\n",
    "<p>The yearly sales trends showcase nuanced dynamics, with Kanyon and Metropol AVM experiencing an upward trajectory, while Mall of Istanbul encounters a dip. Additionally, monthly sales patterns exhibit fluctuations, peaking in January and gradually declining throughout the year.\n",
    "    \n",
    "<p>In conclusion, these findings and recommendations provide a robust foundation for informed decision-making, enabling the creation of targeted initiatives to better meet customer needs and drive business success in the dynamic retail landscape."
   ]
  },
  {
   "cell_type": "markdown",
   "id": "276e2095-08fd-4421-afa4-e446d0f57c75",
   "metadata": {},
   "source": [
    "<i>Thank you for taking the time to read through the entire Jupyter notebook. Your attention and engagement are truly appreciated! If you have any questions or feedback, feel free to reach out my linkedin profile Mani Setharasipalli. Happy analyzing!"
   ]
  },
  {
   "cell_type": "code",
   "execution_count": null,
   "id": "b6f9752b-594b-48d9-a1e1-888276080963",
   "metadata": {},
   "outputs": [],
   "source": []
  }
 ],
 "metadata": {
  "kernelspec": {
   "display_name": "Python 3 (ipykernel)",
   "language": "python",
   "name": "python3"
  },
  "language_info": {
   "codemirror_mode": {
    "name": "ipython",
    "version": 3
   },
   "file_extension": ".py",
   "mimetype": "text/x-python",
   "name": "python",
   "nbconvert_exporter": "python",
   "pygments_lexer": "ipython3",
   "version": "3.10.9"
  }
 },
 "nbformat": 4,
 "nbformat_minor": 5
}
